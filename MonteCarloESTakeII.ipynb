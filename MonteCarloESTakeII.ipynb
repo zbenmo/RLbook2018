{
 "cells": [
  {
   "cell_type": "code",
   "execution_count": 1,
   "id": "ce9ee0c1-4659-4579-a787-60853a0c3e97",
   "metadata": {},
   "outputs": [],
   "source": [
    "import gym\n",
    "import random"
   ]
  },
  {
   "cell_type": "code",
   "execution_count": 2,
   "id": "490143ba-9c5b-4064-977d-963e6254fcf1",
   "metadata": {},
   "outputs": [],
   "source": [
    "class BJEnv(gym.Env):\n",
    "    \"\"\"\n",
    "    Blackjack\n",
    "    \"\"\"\n",
    "    \n",
    "    class State:\n",
    "        def __init__(self):\n",
    "            # for the player I start with the sum rather than the cards to assure uniformity in the randomized start\n",
    "            self.player_sum = random.randint(11, 21)\n",
    "            # and so for the useful Ace\n",
    "            self.player_useful_Ace = random.randint(0, 1) == 1 # boolean\n",
    "\n",
    "            self.dealer_cards = [self._random_card(), self._random_card()]\n",
    "\n",
    "        def _random_card(self):\n",
    "            return random.randint(1, 10) # 1 - Ace, 2, .. 10\n",
    "\n",
    "        def hits(self):\n",
    "            new_card = self._random_card()\n",
    "            self.player_sum += new_card # note since we start with 11 we cannot add another ACE.\n",
    "            if self.player_sum > 21:\n",
    "                if self.player_useful_Ace:\n",
    "                    self.player_sum -= 10\n",
    "                    self.player_useful_Ace = False\n",
    "            return new_card\n",
    "        \n",
    "        def stick(self):                    \n",
    "            return self._dealers_turn()\n",
    "            \n",
    "        def _dealers_turn(self):\n",
    "            cur_sum = sum(self.dealer_cards)\n",
    "            if cur_sum <= 11 and 1 in self.dealer_cards:\n",
    "                cur_sum += 10\n",
    "            while cur_sum < 17:\n",
    "                self.dealer_cards.append(self._random_card())\n",
    "                cur_sum = sum(self.dealer_cards)\n",
    "                if cur_sum <= 11 and 1 in self.dealer_cards:\n",
    "                    cur_sum += 10\n",
    "            return cur_sum\n",
    "\n",
    "        def render(self):\n",
    "            if self.player_useful_Ace:\n",
    "                print(\"Useful Ace\")\n",
    "            else:\n",
    "                print(\"No useful Ace\")\n",
    "            print(\"Current sum: \", self.player_sum)\n",
    "            print(\"Dealer showing: \",  self.card_to_image(self.dealer_cards[0]))\n",
    "            \n",
    "        def card_to_image(self, value):\n",
    "            return \"A\" if value == 1 else value\n",
    "\n",
    "                    \n",
    "    def __init__(self):\n",
    "        self.action_space = gym.spaces.Discrete(2) # 0 hits, 1 sticks\n",
    "        \n",
    "        obs_space = dict(\n",
    "            player_sum = gym.spaces.Discrete(10), # x -> x + 11\n",
    "            player_useful_Ace = gym.spaces.Discrete(2), # 0 no, 1 yes\n",
    "            dealer_card = gym.spaces.Discrete(10) # 0 - Ace, x -> x + 1 (ex. 1 is 2, 9 is 10)\n",
    "        )\n",
    "        \n",
    "        self.observation_space = gym.spaces.Dict(obs_space)\n",
    "        self.reset()\n",
    "    def render(self):\n",
    "        self.state.render()\n",
    "    def reset(self):\n",
    "        self.state = BJEnv.State()\n",
    "        return self._state_to_obs()\n",
    "    def _state_to_obs(self):\n",
    "        return {\n",
    "            'player_sum' : self.state.player_sum - 11,\n",
    "            'player_useful_Ace': 1 if self.state.player_useful_Ace else 0,\n",
    "            'dealer_shown_card' : self.state.dealer_cards[0] - 1\n",
    "        }\n",
    "    def step(self, action):\n",
    "        done = None\n",
    "        reward = None\n",
    "        info = {}\n",
    "        if action == 1: # sticks\n",
    "            dealer_sum = self.state.stick()\n",
    "            if dealer_sum > 21:\n",
    "                reward = 1 # dealer busted\n",
    "            elif self.state.player_sum < dealer_sum:\n",
    "                reward = -1 # lose\n",
    "            elif self.state.player_sum == dealer_sum:\n",
    "                reward = 0 # draw\n",
    "            else:\n",
    "                reward = 1 # win\n",
    "            info['dealer sum'] = dealer_sum \n",
    "            done = True\n",
    "        elif action == 0: # hits\n",
    "            new_card = self.state.hits()\n",
    "            done = False\n",
    "            reward = 0\n",
    "            info['new card'] = self.state.card_to_image(new_card)\n",
    "            if self.state.player_sum > 21:\n",
    "                reward = -1\n",
    "                done = True\n",
    "        else:\n",
    "            assert False, f\"unkown action {action}\"\n",
    "            \n",
    "        return self._state_to_obs(), reward, done, info"
   ]
  },
  {
   "cell_type": "code",
   "execution_count": 3,
   "id": "443bd51e-809e-42f1-a213-205a4d13f38f",
   "metadata": {},
   "outputs": [],
   "source": [
    "env = BJEnv()"
   ]
  },
  {
   "cell_type": "code",
   "execution_count": 4,
   "id": "9454ffb9-84d5-4988-a397-75e101227758",
   "metadata": {},
   "outputs": [
    {
     "name": "stdout",
     "output_type": "stream",
     "text": [
      "No useful Ace\n",
      "Current sum:  18\n",
      "Dealer showing:  3\n"
     ]
    }
   ],
   "source": [
    "env.render()"
   ]
  },
  {
   "cell_type": "code",
   "execution_count": 5,
   "id": "5f54d51f-b85a-47ab-8f28-599a589384dd",
   "metadata": {},
   "outputs": [
    {
     "name": "stdout",
     "output_type": "stream",
     "text": [
      "Episode 0\n",
      "\n",
      "Useful Ace\n",
      "Current sum:  18\n",
      "Dealer showing:  A\n",
      "action 1 -> reward 1 done True {'dealer sum': 23} \n",
      "\n",
      "--------------------------------------------------\n",
      "Episode 1\n",
      "\n",
      "Useful Ace\n",
      "Current sum:  17\n",
      "Dealer showing:  8\n",
      "action 1 -> reward -1 done True {'dealer sum': 18} \n",
      "\n",
      "--------------------------------------------------\n",
      "Episode 2\n",
      "\n",
      "No useful Ace\n",
      "Current sum:  21\n",
      "Dealer showing:  A\n",
      "action 0 -> reward -1 done True {'new card': 5} \n",
      "\n",
      "--------------------------------------------------\n",
      "Episode 3\n",
      "\n",
      "No useful Ace\n",
      "Current sum:  12\n",
      "Dealer showing:  10\n",
      "action 0 -> reward 0 done False {'new card': 4} \n",
      "\n",
      "No useful Ace\n",
      "Current sum:  16\n",
      "Dealer showing:  10\n",
      "action 0 -> reward 0 done False {'new card': 2} \n",
      "\n",
      "No useful Ace\n",
      "Current sum:  18\n",
      "Dealer showing:  10\n",
      "action 1 -> reward 1 done True {'dealer sum': 24} \n",
      "\n",
      "--------------------------------------------------\n",
      "Episode 4\n",
      "\n",
      "Useful Ace\n",
      "Current sum:  16\n",
      "Dealer showing:  10\n",
      "action 1 -> reward -1 done True {'dealer sum': 18} \n",
      "\n",
      "--------------------------------------------------\n"
     ]
    }
   ],
   "source": [
    "episodes = 5\n",
    "\n",
    "for episode in range(episodes):\n",
    "    print(f\"Episode {episode}\\n\")\n",
    "    obs = env.reset()\n",
    "    while True:\n",
    "        env.render()\n",
    "        action = env.action_space.sample()\n",
    "        obs, reward, done, info = env.step(action)\n",
    "        print(\"action\", action, \"->\", \"reward\", reward, \"done\", done, info, \"\\n\")\n",
    "        if done:\n",
    "            break\n",
    "    print(\"-\" * 50)"
   ]
  },
  {
   "cell_type": "code",
   "execution_count": 6,
   "id": "2db9b96c-186e-4252-a8c6-0f7f1e4c9143",
   "metadata": {},
   "outputs": [],
   "source": [
    "from collections import defaultdict\n",
    "import numpy as np\n",
    "import matplotlib.pyplot as plt\n",
    "\n",
    "def MC_exploring_starts(episodes):\n",
    "    # our initial, arbitrary, policy is to stick with 20 or 21 but otherwise to hit\n",
    "    policy = dict()\n",
    "    for player_sum in range(11): # 0 .. 10 -> 11 .. 21\n",
    "        for dealer_showing in range(10):\n",
    "            policy[0, player_sum, dealer_showing] = 0 if player_sum < 9 else 1 # sticks on 20 or 21\n",
    "            policy[1, player_sum, dealer_showing] = 0 if player_sum < 9 else 1 # sticks on 20 or 21\n",
    "    state_action_value = dict()\n",
    "    returns = defaultdict(list)\n",
    "    for i in range(episodes):\n",
    "        start = env.reset()\n",
    "        start_action = env.action_space.sample()\n",
    "        # generating the episode that starts with our randomly chosen start and action\n",
    "        s = start\n",
    "        a = start_action\n",
    "        current_episode = []\n",
    "        while True:\n",
    "            obs, reward, done, info = env.step(a)\n",
    "            current_episode.append((s, a, reward, obs))\n",
    "            if done:\n",
    "                break\n",
    "            s = obs                       \n",
    "            a = policy[s['player_useful_Ace'], s['player_sum'], s['dealer_shown_card']]\n",
    "        # update wrt the episode\n",
    "        seen = set()\n",
    "        for entry in current_episode:\n",
    "            s, a, _, _ = entry\n",
    "            s = (s['player_useful_Ace'], s['player_sum'], s['dealer_shown_card'])\n",
    "            if (s, a) in seen:\n",
    "                entry[1] = -1 # mark as don't update\n",
    "            else:\n",
    "                seen.add((s, a))\n",
    "        gamma = 1 # discount factor\n",
    "        g = 0\n",
    "        for entry in reversed(current_episode):\n",
    "            s, a, reward, _ = entry\n",
    "            s = (s['player_useful_Ace'], s['player_sum'], s['dealer_shown_card'])\n",
    "            g += reward\n",
    "            if a > -1: # above we've used -1 to mark not to use for update\n",
    "                returns[s, a].append(g)\n",
    "                state_action_value[s, a] = np.mean(returns[s, a])\n",
    "                policy[s] = np.argmax([state_action_value.get((s, action), 0) for action in [0, 1]])\n",
    "    state_value = defaultdict(list)\n",
    "    for k, v in state_action_value.items():\n",
    "        s, a = k\n",
    "        state_value[s].append(v)\n",
    "    state_value = {\n",
    "        k: np.max(v)\n",
    "        for k, v in state_value.items() \n",
    "    }\n",
    "    return policy, state_value"
   ]
  },
  {
   "cell_type": "code",
   "execution_count": 7,
   "id": "9724c4fc-e0d6-4cc9-a4c5-00271995c2b7",
   "metadata": {},
   "outputs": [],
   "source": [
    "policy, state_value = MC_exploring_starts(1000)"
   ]
  },
  {
   "cell_type": "code",
   "execution_count": 8,
   "id": "eeeb3dcd-3c35-4a67-ba58-d9e2563f0454",
   "metadata": {},
   "outputs": [],
   "source": [
    "def plot_policy(policy):\n",
    "    m = np.zeros(shape=(11, 10), dtype=bool)\n",
    "    for useful_ace in [0, 1]:\n",
    "        print('useful_ace', 'Yes' if useful_ace == 1 else 'No')\n",
    "        for player_sum in range(11):\n",
    "            for dealer_showing in range(10):\n",
    "                m[player_sum, dealer_showing] = policy[useful_ace, player_sum, dealer_showing] \n",
    "        fig = plt.figure()\n",
    "        ax = fig.add_subplot(111)                \n",
    "        msh = ax.matshow(m, interpolation=\"none\")\n",
    "        ax.set_ylim(-0.5, 10.5)\n",
    "        ax.set_yticks(range(11))\n",
    "        ax.set_xticks(range(10))\n",
    "        ax.set_axisbelow(False)\n",
    "        ax.set_yticklabels(list(map(lambda x: x + 11, range(11))))\n",
    "        ax.set_ylabel('Player sum')\n",
    "        ax.set_xticklabels(['A'] + list(map(str, range(2, 11))))\n",
    "        ax.set_xlabel('Dealer showing')\n",
    "        plt.gca().xaxis.tick_bottom()\n",
    "        fig.colorbar(msh)\n",
    "        plt.show()"
   ]
  },
  {
   "cell_type": "code",
   "execution_count": 9,
   "id": "3bfc5505-1333-428b-af8b-4e9912b6eff4",
   "metadata": {},
   "outputs": [
    {
     "name": "stdout",
     "output_type": "stream",
     "text": [
      "useful_ace No\n"
     ]
    },
    {
     "data": {
      "image/png": "[encoded data removed]",
      "text/plain": [
       "<Figure size 432x288 with 2 Axes>"
      ]
     },
     "metadata": {
      "needs_background": "light"
     },
     "output_type": "display_data"
    },
    {
     "name": "stdout",
     "output_type": "stream",
     "text": [
      "useful_ace Yes\n"
     ]
    },
    {
     "data": {
      "image/png": "[encoded data removed]",
      "text/plain": [
       "<Figure size 432x288 with 2 Axes>"
      ]
     },
     "metadata": {
      "needs_background": "light"
     },
     "output_type": "display_data"
    }
   ],
   "source": [
    "plot_policy(policy)"
   ]
  },
  {
   "cell_type": "code",
   "execution_count": 10,
   "id": "f16a2c06-b573-4a77-8fac-12c4e7b8c74c",
   "metadata": {},
   "outputs": [
    {
     "data": {
      "text/plain": [
       "1"
      ]
     },
     "execution_count": 10,
     "metadata": {},
     "output_type": "execute_result"
    }
   ],
   "source": [
    "policy[(0,6,4)]"
   ]
  },
  {
   "cell_type": "code",
   "execution_count": 11,
   "id": "f87a1cb7-64a8-4776-8cf3-94f2439533f0",
   "metadata": {},
   "outputs": [],
   "source": [
    "def plot_state_value(state_value):\n",
    "    m = np.zeros(shape=(11, 10))\n",
    "    for useful_ace in [0, 1]:\n",
    "        print('useful_ace', 'Yes' if useful_ace == 1 else 'No')\n",
    "        for player_sum in range(11):\n",
    "            for dealer_showing in range(10):\n",
    "                m[player_sum, dealer_showing] = state_value.get((useful_ace, player_sum, dealer_showing), None) \n",
    "        fig = plt.figure()\n",
    "        ax = fig.add_subplot(111)                \n",
    "        msh = ax.matshow(m, interpolation=\"none\")\n",
    "        ax.set_ylim(-0.5, 10.5)\n",
    "        ax.set_yticks(range(11))\n",
    "        ax.set_xticks(range(10))\n",
    "        ax.set_axisbelow(False)\n",
    "        # ax.set_yticklabels(map(lambda x: x + 11, range(10)))\n",
    "        ax.set_yticklabels(list(map(lambda x: x + 11, range(11))))\n",
    "        ax.set_ylabel('Player sum')        \n",
    "        ax.set_xticklabels(['A'] + list(map(str, range(2, 11))))\n",
    "        ax.set_xlabel('Dealer showing')        \n",
    "        plt.gca().xaxis.tick_bottom()\n",
    "        fig.colorbar(msh)\n",
    "        plt.show()"
   ]
  },
  {
   "cell_type": "code",
   "execution_count": 12,
   "id": "82fc9668-49a1-4ede-9008-994a4b3a68c7",
   "metadata": {},
   "outputs": [
    {
     "name": "stdout",
     "output_type": "stream",
     "text": [
      "useful_ace No\n"
     ]
    },
    {
     "data": {
      "image/png": "[encoded data removed]",
      "text/plain": [
       "<Figure size 432x288 with 2 Axes>"
      ]
     },
     "metadata": {
      "needs_background": "light"
     },
     "output_type": "display_data"
    },
    {
     "name": "stdout",
     "output_type": "stream",
     "text": [
      "useful_ace Yes\n"
     ]
    },
    {
     "data": {
      "image/png": "[encoded data removed]",
      "text/plain": [
       "<Figure size 432x288 with 2 Axes>"
      ]
     },
     "metadata": {
      "needs_background": "light"
     },
     "output_type": "display_data"
    }
   ],
   "source": [
    "plot_state_value(state_value)"
   ]
  },
  {
   "cell_type": "code",
   "execution_count": null,
   "id": "42fdd7fe-1fef-4220-98dc-b2c7e0b8eb0d",
   "metadata": {},
   "outputs": [],
   "source": []
  }
 ],
 "metadata": {
  "kernelspec": {
   "display_name": "Python 3 (ipykernel)",
   "language": "python",
   "name": "python3"
  },
  "language_info": {
   "codemirror_mode": {
    "name": "ipython",
    "version": 3
   },
   "file_extension": ".py",
   "mimetype": "text/x-python",
   "name": "python",
   "nbconvert_exporter": "python",
   "pygments_lexer": "ipython3",
   "version": "3.9.1"
  }
 },
 "nbformat": 4,
 "nbformat_minor": 5
}
