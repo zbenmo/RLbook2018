{
 "cells": [
  {
   "cell_type": "code",
   "execution_count": 3,
   "id": "ce9ee0c1-4659-4579-a787-60853a0c3e97",
   "metadata": {},
   "outputs": [],
   "source": [
    "import gym\n",
    "import random"
   ]
  },
  {
   "cell_type": "code",
   "execution_count": 116,
   "id": "490143ba-9c5b-4064-977d-963e6254fcf1",
   "metadata": {},
   "outputs": [],
   "source": [
    "class BJEnv(gym.Env):\n",
    "    \"\"\"\n",
    "    Blackjack\n",
    "    \"\"\"\n",
    "    def __init__(self):\n",
    "        self.action_space = gym.spaces.Discrete(2) # 0 hit, 1 stick\n",
    "        \n",
    "        obs_space = dict(\n",
    "            player_sum = gym.spaces.Discrete(10), # x -> x + 11\n",
    "            player_useful_Ace = gym.spaces.Discrete(2), # 0 no, 1 yes\n",
    "            dealer_card = gym.spaces.Discrete(10) # 0 - Ace, x -> x + 1 (ex. 1 is 2, 9 is 10)\n",
    "        )\n",
    "        \n",
    "        self.observation_space = gym.spaces.Dict(obs_space)\n",
    "        self.reset()\n",
    "    def _card_to_image(self, value):\n",
    "        return \"A\" if value == 0 else value + 1\n",
    "    def render(self):\n",
    "        if self.state[\"player_useful_Ace\"] > 0:\n",
    "            print(\"Useful Ace\")\n",
    "        else:\n",
    "            print(\"No useful Ace\")\n",
    "        print(\"Current sum: \", self.state[\"player_sum\"])\n",
    "        print(\"Dealer showing: \",  self._card_to_image(self.state[\"dealer_shown_card\"]))\n",
    "    def _random_card(self):\n",
    "        return random.randint(0, 9) # 0 - Ace, x -> x + 1 (ex. 1 is 2, 9 is 10)\n",
    "    def reset(self):\n",
    "        self.state = dict(\n",
    "            player_sum = random.randint(11, 21),\n",
    "            player_useful_Ace = random.randint(0, 1),\n",
    "            dealer_shown_card = self._random_card(),\n",
    "            dealer_other_card = self._random_card()\n",
    "        )\n",
    "        self.state['dealer_sum'] = self.state['dealer_shown_card'] + 1 + self.state['dealer_other_card'] + 1\n",
    "        if (self.state['dealer_shown_card'] == 0) or (self.state['dealer_other_card'] == 0):\n",
    "            self.state['dealer_sum'] = self.state['dealer_sum'] + 10 if self.state['dealer_sum'] < 12 else self.state['dealer_sum']  \n",
    "        obs = {\n",
    "            k: v for k, v in self.state.items() if k in ['player_sum', 'player_useful_Ace', 'dealer_shown_card']\n",
    "        }\n",
    "        obs['player_sum'] -= 11\n",
    "        return obs\n",
    "    def step(self, action):\n",
    "        done = None\n",
    "        reward = None\n",
    "        info = {}\n",
    "        if action == 1: # stick\n",
    "            done = True\n",
    "            reward = 0 if self.state['player_sum'] < self.state['dealer_sum'] else 1\n",
    "            info['dealer sum'] = self.state['dealer_sum'] \n",
    "        elif action == 0: # hit\n",
    "            done = False\n",
    "            reward = 0\n",
    "            new_card = self._random_card()\n",
    "            info['new card'] = self._card_to_image(new_card)\n",
    "            self.state['player_sum'] += new_card + 1 # note since we start with 11 we cannot add another ACE.\n",
    "            if self.state['player_sum'] > 21:\n",
    "                if self.state['player_useful_Ace']:\n",
    "                    self.state['player_sum'] -= 10\n",
    "                else:\n",
    "                    done = True\n",
    "        else:\n",
    "            assert False, f\"unkown action {action}\"\n",
    "            \n",
    "        return self.state, reward, done, info"
   ]
  },
  {
   "cell_type": "code",
   "execution_count": 117,
   "id": "443bd51e-809e-42f1-a213-205a4d13f38f",
   "metadata": {},
   "outputs": [],
   "source": [
    "env = BJEnv()"
   ]
  },
  {
   "cell_type": "code",
   "execution_count": 118,
   "id": "9454ffb9-84d5-4988-a397-75e101227758",
   "metadata": {},
   "outputs": [
    {
     "name": "stdout",
     "output_type": "stream",
     "text": [
      "No useful Ace\n",
      "Current sum:  14\n",
      "Dealer showing:  3\n"
     ]
    }
   ],
   "source": [
    "env.render()"
   ]
  },
  {
   "cell_type": "code",
   "execution_count": 120,
   "id": "5f54d51f-b85a-47ab-8f28-599a589384dd",
   "metadata": {},
   "outputs": [
    {
     "name": "stdout",
     "output_type": "stream",
     "text": [
      "Episode 0\n",
      "\n",
      "No useful Ace\n",
      "Current sum:  14\n",
      "Dealer showing:  A\n",
      "action 0 -> reward 0 done False {'new card': 4} \n",
      "\n",
      "No useful Ace\n",
      "Current sum:  18\n",
      "Dealer showing:  A\n",
      "action 0 -> reward 0 done True {'new card': 10} \n",
      "\n",
      "--------------------------------------------------\n",
      "Episode 1\n",
      "\n",
      "No useful Ace\n",
      "Current sum:  18\n",
      "Dealer showing:  4\n",
      "action 0 -> reward 0 done True {'new card': 4} \n",
      "\n",
      "--------------------------------------------------\n",
      "Episode 2\n",
      "\n",
      "Useful Ace\n",
      "Current sum:  17\n",
      "Dealer showing:  8\n",
      "action 0 -> reward 0 done False {'new card': 9} \n",
      "\n",
      "Useful Ace\n",
      "Current sum:  16\n",
      "Dealer showing:  8\n",
      "action 1 -> reward 1 done True {'dealer sum': 11} \n",
      "\n",
      "--------------------------------------------------\n",
      "Episode 3\n",
      "\n",
      "No useful Ace\n",
      "Current sum:  11\n",
      "Dealer showing:  2\n",
      "action 1 -> reward 1 done True {'dealer sum': 6} \n",
      "\n",
      "--------------------------------------------------\n",
      "Episode 4\n",
      "\n",
      "No useful Ace\n",
      "Current sum:  21\n",
      "Dealer showing:  7\n",
      "action 0 -> reward 0 done True {'new card': 2} \n",
      "\n",
      "--------------------------------------------------\n"
     ]
    }
   ],
   "source": [
    "episodes = 5\n",
    "\n",
    "for episode in range(episodes):\n",
    "    print(f\"Episode {episode}\\n\")\n",
    "    obs = env.reset()\n",
    "    while True:\n",
    "        env.render()\n",
    "        action = env.action_space.sample()\n",
    "        obs, reward, done, info = env.step(action)\n",
    "        print(\"action\", action, \"->\", \"reward\", reward, \"done\", done, info, \"\\n\")\n",
    "        if done:\n",
    "            break\n",
    "    print(\"-\" * 50)"
   ]
  },
  {
   "cell_type": "code",
   "execution_count": null,
   "id": "2db9b96c-186e-4252-a8c6-0f7f1e4c9143",
   "metadata": {},
   "outputs": [],
   "source": []
  }
 ],
 "metadata": {
  "kernelspec": {
   "display_name": "Python 3 (ipykernel)",
   "language": "python",
   "name": "python3"
  },
  "language_info": {
   "codemirror_mode": {
    "name": "ipython",
    "version": 3
   },
   "file_extension": ".py",
   "mimetype": "text/x-python",
   "name": "python",
   "nbconvert_exporter": "python",
   "pygments_lexer": "ipython3",
   "version": "3.9.1"
  }
 },
 "nbformat": 4,
 "nbformat_minor": 5
}
