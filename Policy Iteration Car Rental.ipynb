{
 "cells": [
  {
   "cell_type": "code",
   "execution_count": 1,
   "id": "86560866-714c-43a8-8065-69e2ab167b70",
   "metadata": {},
   "outputs": [],
   "source": [
    "import matplotlib.pyplot as plt\n",
    "from scipy.stats import poisson\n",
    "from tqdm import tqdm\n",
    "from functools import lru_cache\n",
    "import numpy as np"
   ]
  },
  {
   "cell_type": "code",
   "execution_count": 2,
   "id": "311e6d25-e6f0-498c-a3ff-b1ce2d902dd5",
   "metadata": {},
   "outputs": [],
   "source": [
    "gamma = 0.9 # discount rate"
   ]
  },
  {
   "cell_type": "code",
   "execution_count": 3,
   "id": "e95a588d-0577-4792-a968-5189999b117e",
   "metadata": {},
   "outputs": [],
   "source": [
    "max_l1 = 20\n",
    "max_l2 = 20"
   ]
  },
  {
   "cell_type": "code",
   "execution_count": 4,
   "id": "04578eba-cf18-4b59-8c9e-d1459a6a4969",
   "metadata": {},
   "outputs": [],
   "source": [
    "credit_for_rental = 10\n",
    "cost_to_move = 2"
   ]
  },
  {
   "cell_type": "code",
   "execution_count": 5,
   "id": "400922e5-a743-44a1-8608-f034d652170d",
   "metadata": {},
   "outputs": [],
   "source": [
    "rental_l1 = poisson(mu=3)\n",
    "rental_l2 = poisson(mu=4)\n",
    "return_l1 = poisson(mu=3)\n",
    "return_l2 = poisson(mu=2)\n",
    "\n",
    "@lru_cache()\n",
    "def prob_rental_l1(n):\n",
    "    return rental_l1.pmf(n)\n",
    "\n",
    "@lru_cache()\n",
    "def prob_rental_l2(n):\n",
    "    return rental_l2.pmf(n)\n",
    "\n",
    "@lru_cache()\n",
    "def prob_return_l1(n):\n",
    "    return return_l1.pmf(n)\n",
    "\n",
    "@lru_cache()\n",
    "def prob_return_l2(n):\n",
    "    return return_l2.pmf(n)"
   ]
  },
  {
   "cell_type": "code",
   "execution_count": 6,
   "id": "7fed603d-4d0c-47d2-9873-885aad3a9b4f",
   "metadata": {},
   "outputs": [
    {
     "data": {
      "image/png": "[encoded data removed]",
      "text/plain": [
       "<Figure size 432x288 with 1 Axes>"
      ]
     },
     "metadata": {
      "needs_background": "light"
     },
     "output_type": "display_data"
    }
   ],
   "source": [
    "plt.plot([prob_rental_l1(n) for n in range(20 + 1)])\n",
    "plt.xticks(range(20 + 1));"
   ]
  },
  {
   "cell_type": "code",
   "execution_count": 7,
   "id": "896d8239-1980-494e-a993-88423489a014",
   "metadata": {},
   "outputs": [
    {
     "data": {
      "image/png": "[encoded data removed]",
      "text/plain": [
       "<Figure size 432x288 with 1 Axes>"
      ]
     },
     "metadata": {
      "needs_background": "light"
     },
     "output_type": "display_data"
    }
   ],
   "source": [
    "plt.plot([poisson.cdf(n, mu=3) for n in range(20 + 1)])\n",
    "plt.hlines(1,0,20,linestyle='dashed',color='red')\n",
    "plt.xticks(range(20 + 1)); # no need to worry about > 20"
   ]
  },
  {
   "cell_type": "code",
   "execution_count": 8,
   "id": "c11a54b7-297d-4beb-8111-a5cca636b1a0",
   "metadata": {},
   "outputs": [],
   "source": [
    "max_cars_move = 5"
   ]
  },
  {
   "cell_type": "code",
   "execution_count": 9,
   "id": "94f3dce8-4cc0-4027-ab4b-bb675fb0cc4d",
   "metadata": {},
   "outputs": [],
   "source": [
    "def dynamics_reward(state, action):\n",
    "    has_l1, has_l2 = state\n",
    "    for rental_requests1 in range(max_l1 + 1):\n",
    "        p1 = prob_rental_l1(rental_requests1)\n",
    "        rented_l1 = min(has_l1, rental_requests1)\n",
    "        r_l1 = rented_l1 * credit_for_rental\n",
    "        for rental_requests2 in range(max_l2 + 1):\n",
    "            p2 = prob_rental_l2(rental_requests2)\n",
    "            rented_l2 = min(has_l2, rental_requests2)\n",
    "            r_l2 = rented_l2 * credit_for_rental\n",
    "            for return1 in range(max_l1 + 1):\n",
    "                p3 = prob_return_l1(return1)\n",
    "                for return2 in range(max_l2 + 1):\n",
    "                    p4 = prob_return_l2(return2)\n",
    "                    have_l1 = has_l1 - rented_l1 - action + return1\n",
    "                    have_l2 = has_l2 - rented_l2 + action + return2 \n",
    "                    if (have_l1 < 0) or (have_l2 < 0):\n",
    "                        continue\n",
    "                    have_l1 = min(have_l1, max_l1)\n",
    "                    have_l2 = min(have_l2, max_l2)\n",
    "                    reward = r_l1 + r_l2 - cost_to_move * abs(action)\n",
    "                    new_state = (have_l1, have_l2)\n",
    "                    yield reward, new_state, p1*p2*p3*p4"
   ]
  },
  {
   "cell_type": "code",
   "execution_count": 10,
   "id": "212ef03d-3938-4a0e-bd5d-d3a9292ed3f9",
   "metadata": {},
   "outputs": [],
   "source": [
    "V = {\n",
    "    (l1, l2): 0 for l1 in range(max_l1 + 1) for l2 in range(max_l2 + 1) \n",
    "}\n",
    "\n",
    "policy = {\n",
    "    k: 0 for k in V.keys()\n",
    "}"
   ]
  },
  {
   "cell_type": "code",
   "execution_count": 11,
   "id": "f023a0ef-2780-4ec4-9841-398d379fdbc9",
   "metadata": {},
   "outputs": [],
   "source": [
    "theta = 1 # 1e-3"
   ]
  },
  {
   "cell_type": "code",
   "execution_count": 12,
   "id": "eaf67680-cebf-4619-9150-1aba52cc78b5",
   "metadata": {},
   "outputs": [],
   "source": [
    "def policy_evaluation():\n",
    "    while True:\n",
    "        delta = 0\n",
    "        for s in tqdm(V.keys(), 'state(pe)'):\n",
    "            v = V[s]\n",
    "            V[s] = sum(p * (r + gamma * V[s_p]) for r, s_p, p in dynamics_reward(s, policy[s]))\n",
    "            delta = max(delta, abs(v - V[s]))\n",
    "        print(delta)\n",
    "        if delta < theta:\n",
    "            break # V[s] now holds the value for policy"
   ]
  },
  {
   "cell_type": "code",
   "execution_count": 13,
   "id": "0380bedf-1de8-48e4-8c0c-18e65dafacd2",
   "metadata": {},
   "outputs": [
    {
     "name": "stderr",
     "output_type": "stream",
     "text": [
      "state(pe): 100%|█████████████████████████████████████████████████████████████████████| 441/441 [01:13<00:00,  6.03it/s]\n",
      "state(pe):   0%|▏                                                                      | 1/441 [00:00<01:21,  5.41it/s]"
     ]
    },
    {
     "name": "stdout",
     "output_type": "stream",
     "text": [
      "193.34904787428417\n"
     ]
    },
    {
     "name": "stderr",
     "output_type": "stream",
     "text": [
      "state(pe): 100%|█████████████████████████████████████████████████████████████████████| 441/441 [01:20<00:00,  5.46it/s]\n",
      "state(pe):   0%|▏                                                                      | 1/441 [00:00<01:21,  5.41it/s]"
     ]
    },
    {
     "name": "stdout",
     "output_type": "stream",
     "text": [
      "134.00425974869276\n"
     ]
    },
    {
     "name": "stderr",
     "output_type": "stream",
     "text": [
      "state(pe): 100%|█████████████████████████████████████████████████████████████████████| 441/441 [01:21<00:00,  5.39it/s]\n",
      "state(pe):   0%|▏                                                                      | 1/441 [00:00<01:22,  5.35it/s]"
     ]
    },
    {
     "name": "stdout",
     "output_type": "stream",
     "text": [
      "90.45243676948189\n"
     ]
    },
    {
     "name": "stderr",
     "output_type": "stream",
     "text": [
      "state(pe): 100%|█████████████████████████████████████████████████████████████████████| 441/441 [01:23<00:00,  5.31it/s]\n",
      "state(pe):   0%|▏                                                                      | 1/441 [00:00<01:21,  5.41it/s]"
     ]
    },
    {
     "name": "stdout",
     "output_type": "stream",
     "text": [
      "67.59779036647134\n"
     ]
    },
    {
     "name": "stderr",
     "output_type": "stream",
     "text": [
      "state(pe): 100%|█████████████████████████████████████████████████████████████████████| 441/441 [01:23<00:00,  5.30it/s]\n",
      "state(pe):   0%|▏                                                                      | 1/441 [00:00<01:20,  5.43it/s]"
     ]
    },
    {
     "name": "stdout",
     "output_type": "stream",
     "text": [
      "53.58492992838734\n"
     ]
    },
    {
     "name": "stderr",
     "output_type": "stream",
     "text": [
      "state(pe): 100%|█████████████████████████████████████████████████████████████████████| 441/441 [01:22<00:00,  5.34it/s]\n",
      "state(pe):   0%|▏                                                                      | 1/441 [00:00<01:23,  5.26it/s]"
     ]
    },
    {
     "name": "stdout",
     "output_type": "stream",
     "text": [
      "41.72086224079544\n"
     ]
    },
    {
     "name": "stderr",
     "output_type": "stream",
     "text": [
      "state(pe): 100%|█████████████████████████████████████████████████████████████████████| 441/441 [01:22<00:00,  5.34it/s]\n",
      "state(pe):   0%|▏                                                                      | 1/441 [00:00<01:20,  5.46it/s]"
     ]
    },
    {
     "name": "stdout",
     "output_type": "stream",
     "text": [
      "32.720108750795134\n"
     ]
    },
    {
     "name": "stderr",
     "output_type": "stream",
     "text": [
      "state(pe): 100%|█████████████████████████████████████████████████████████████████████| 441/441 [01:22<00:00,  5.34it/s]\n",
      "state(pe):   0%|▏                                                                      | 1/441 [00:00<01:23,  5.29it/s]"
     ]
    },
    {
     "name": "stdout",
     "output_type": "stream",
     "text": [
      "26.087555521978743\n"
     ]
    },
    {
     "name": "stderr",
     "output_type": "stream",
     "text": [
      "state(pe): 100%|█████████████████████████████████████████████████████████████████████| 441/441 [01:22<00:00,  5.37it/s]\n",
      "state(pe):   0%|▏                                                                      | 1/441 [00:00<01:21,  5.37it/s]"
     ]
    },
    {
     "name": "stdout",
     "output_type": "stream",
     "text": [
      "21.77814281594715\n"
     ]
    },
    {
     "name": "stderr",
     "output_type": "stream",
     "text": [
      "state(pe): 100%|█████████████████████████████████████████████████████████████████████| 441/441 [01:22<00:00,  5.37it/s]\n",
      "state(pe):   0%|▏                                                                      | 1/441 [00:00<01:21,  5.38it/s]"
     ]
    },
    {
     "name": "stdout",
     "output_type": "stream",
     "text": [
      "18.318059244390952\n"
     ]
    },
    {
     "name": "stderr",
     "output_type": "stream",
     "text": [
      "state(pe): 100%|█████████████████████████████████████████████████████████████████████| 441/441 [01:21<00:00,  5.40it/s]\n",
      "state(pe):   0%|▏                                                                      | 1/441 [00:00<01:22,  5.35it/s]"
     ]
    },
    {
     "name": "stdout",
     "output_type": "stream",
     "text": [
      "15.367405838268724\n"
     ]
    },
    {
     "name": "stderr",
     "output_type": "stream",
     "text": [
      "state(pe): 100%|█████████████████████████████████████████████████████████████████████| 441/441 [01:22<00:00,  5.37it/s]\n",
      "state(pe):   0%|▏                                                                      | 1/441 [00:00<01:22,  5.35it/s]"
     ]
    },
    {
     "name": "stdout",
     "output_type": "stream",
     "text": [
      "12.861026653932925\n"
     ]
    },
    {
     "name": "stderr",
     "output_type": "stream",
     "text": [
      "state(pe): 100%|█████████████████████████████████████████████████████████████████████| 441/441 [01:21<00:00,  5.39it/s]\n",
      "state(pe):   0%|▏                                                                      | 1/441 [00:00<01:23,  5.29it/s]"
     ]
    },
    {
     "name": "stdout",
     "output_type": "stream",
     "text": [
      "10.739286262152575\n"
     ]
    },
    {
     "name": "stderr",
     "output_type": "stream",
     "text": [
      "state(pe): 100%|█████████████████████████████████████████████████████████████████████| 441/441 [01:22<00:00,  5.35it/s]\n",
      "state(pe):   0%|▏                                                                      | 1/441 [00:00<01:23,  5.30it/s]"
     ]
    },
    {
     "name": "stdout",
     "output_type": "stream",
     "text": [
      "8.94900375748017\n"
     ]
    },
    {
     "name": "stderr",
     "output_type": "stream",
     "text": [
      "state(pe): 100%|█████████████████████████████████████████████████████████████████████| 441/441 [01:22<00:00,  5.36it/s]\n",
      "state(pe):   0%|                                                                               | 0/441 [00:00<?, ?it/s]"
     ]
    },
    {
     "name": "stdout",
     "output_type": "stream",
     "text": [
      "7.443128085634385\n"
     ]
    },
    {
     "name": "stderr",
     "output_type": "stream",
     "text": [
      "state(pe): 100%|█████████████████████████████████████████████████████████████████████| 441/441 [01:23<00:00,  5.27it/s]\n",
      "state(pe):   0%|▏                                                                      | 1/441 [00:00<01:22,  5.32it/s]"
     ]
    },
    {
     "name": "stdout",
     "output_type": "stream",
     "text": [
      "6.180205955673614\n"
     ]
    },
    {
     "name": "stderr",
     "output_type": "stream",
     "text": [
      "state(pe): 100%|█████████████████████████████████████████████████████████████████████| 441/441 [01:22<00:00,  5.32it/s]\n",
      "state(pe):   0%|▏                                                                      | 1/441 [00:00<01:23,  5.26it/s]"
     ]
    },
    {
     "name": "stdout",
     "output_type": "stream",
     "text": [
      "5.123897017011529\n"
     ]
    },
    {
     "name": "stderr",
     "output_type": "stream",
     "text": [
      "state(pe): 100%|█████████████████████████████████████████████████████████████████████| 441/441 [01:22<00:00,  5.33it/s]\n",
      "state(pe):   0%|▏                                                                      | 1/441 [00:00<01:21,  5.38it/s]"
     ]
    },
    {
     "name": "stdout",
     "output_type": "stream",
     "text": [
      "4.242540104623174\n"
     ]
    },
    {
     "name": "stderr",
     "output_type": "stream",
     "text": [
      "state(pe): 100%|█████████████████████████████████████████████████████████████████████| 441/441 [01:23<00:00,  5.30it/s]\n",
      "state(pe):   0%|▏                                                                      | 1/441 [00:00<01:18,  5.58it/s]"
     ]
    },
    {
     "name": "stdout",
     "output_type": "stream",
     "text": [
      "3.508736655413884\n"
     ]
    },
    {
     "name": "stderr",
     "output_type": "stream",
     "text": [
      "state(pe): 100%|█████████████████████████████████████████████████████████████████████| 441/441 [01:21<00:00,  5.40it/s]\n",
      "state(pe):   0%|▏                                                                      | 1/441 [00:00<01:17,  5.66it/s]"
     ]
    },
    {
     "name": "stdout",
     "output_type": "stream",
     "text": [
      "2.8989343693046408\n"
     ]
    },
    {
     "name": "stderr",
     "output_type": "stream",
     "text": [
      "state(pe): 100%|█████████████████████████████████████████████████████████████████████| 441/441 [01:21<00:00,  5.40it/s]\n",
      "state(pe):   0%|▏                                                                      | 1/441 [00:00<01:17,  5.69it/s]"
     ]
    },
    {
     "name": "stdout",
     "output_type": "stream",
     "text": [
      "2.3930118820198913\n"
     ]
    },
    {
     "name": "stderr",
     "output_type": "stream",
     "text": [
      "state(pe): 100%|█████████████████████████████████████████████████████████████████████| 441/441 [01:21<00:00,  5.39it/s]\n",
      "state(pe):   0%|▏                                                                      | 1/441 [00:00<01:18,  5.61it/s]"
     ]
    },
    {
     "name": "stdout",
     "output_type": "stream",
     "text": [
      "1.973873439026704\n"
     ]
    },
    {
     "name": "stderr",
     "output_type": "stream",
     "text": [
      "state(pe): 100%|█████████████████████████████████████████████████████████████████████| 441/441 [01:21<00:00,  5.40it/s]\n",
      "state(pe):   0%|                                                                               | 0/441 [00:00<?, ?it/s]"
     ]
    },
    {
     "name": "stdout",
     "output_type": "stream",
     "text": [
      "1.627063710307084\n"
     ]
    },
    {
     "name": "stderr",
     "output_type": "stream",
     "text": [
      "state(pe): 100%|█████████████████████████████████████████████████████████████████████| 441/441 [01:24<00:00,  5.20it/s]\n",
      "state(pe):   0%|▏                                                                      | 1/441 [00:00<01:17,  5.70it/s]"
     ]
    },
    {
     "name": "stdout",
     "output_type": "stream",
     "text": [
      "1.340410695757157\n"
     ]
    },
    {
     "name": "stderr",
     "output_type": "stream",
     "text": [
      "state(pe): 100%|█████████████████████████████████████████████████████████████████████| 441/441 [01:24<00:00,  5.22it/s]\n",
      "state(pe):   0%|▏                                                                      | 1/441 [00:00<01:28,  4.99it/s]"
     ]
    },
    {
     "name": "stdout",
     "output_type": "stream",
     "text": [
      "1.1037015733500084\n"
     ]
    },
    {
     "name": "stderr",
     "output_type": "stream",
     "text": [
      "state(pe): 100%|█████████████████████████████████████████████████████████████████████| 441/441 [01:24<00:00,  5.21it/s]"
     ]
    },
    {
     "name": "stdout",
     "output_type": "stream",
     "text": [
      "0.9083935035057493\n"
     ]
    },
    {
     "name": "stderr",
     "output_type": "stream",
     "text": [
      "\n"
     ]
    }
   ],
   "source": [
    "policy_evaluation()"
   ]
  },
  {
   "cell_type": "code",
   "execution_count": 21,
   "id": "7554f57e-c3af-4ec2-b58f-6f7e1b2dc8a3",
   "metadata": {},
   "outputs": [],
   "source": [
    "def draw_policy(policy):\n",
    "    arr = np.zeros((max_l1 + 1, max_l2 + 1))\n",
    "    for key, value in policy.items():\n",
    "        arr[key] = value\n",
    "    plt.imshow(arr)\n",
    "    plt.colorbar()\n",
    "    plt.gca().invert_yaxis()\n",
    "    plt.ylabel('location 1')\n",
    "    plt.xlabel('location 2')\n",
    "    plt.show()"
   ]
  },
  {
   "cell_type": "code",
   "execution_count": 15,
   "id": "4081f442-f57c-42dc-bfca-d354b2a070ed",
   "metadata": {},
   "outputs": [
    {
     "data": {
      "image/png": "[encoded data removed]",
      "text/plain": [
       "<Figure size 432x288 with 1 Axes>"
      ]
     },
     "metadata": {
      "needs_background": "light"
     },
     "output_type": "display_data"
    }
   ],
   "source": [
    "draw_policy(policy)"
   ]
  },
  {
   "cell_type": "code",
   "execution_count": 16,
   "id": "c50f6874-de41-4e11-a775-73e836a616c3",
   "metadata": {},
   "outputs": [],
   "source": [
    "def policy_improvement():\n",
    "    max_iterations=5\n",
    "    while True:\n",
    "        policy_stable = True\n",
    "        for s in tqdm(V.keys(), \"state(pi)\", leave=True):\n",
    "            old_action = policy[s]\n",
    "#             print(old_action)\n",
    "            action_expected_reward = {\n",
    "                action: sum(p * (r + gamma * V[s_p]) for r, s_p, p in dynamics_reward(s, action))\n",
    "                for action in range(-max_cars_move, max_cars_move + 1)\n",
    "            }\n",
    "#             print(action_expected_reward)\n",
    "#             print('max ->', max(action_expected_reward, key=action_expected_reward.get))\n",
    "            new_action = max(action_expected_reward, key=action_expected_reward.get)\n",
    "            policy_stable = policy_stable and (old_action == new_action)  # potential bug if new state with same value\n",
    "#             print('->', new_action)\n",
    "            policy[s] = new_action\n",
    "#             print(policy_stable)\n",
    "        if policy_stable:\n",
    "            break\n",
    "        max_iterations -= 1\n",
    "        if max_iterations < 1:\n",
    "            break\n",
    "        print('calling policy_evaluation')\n",
    "        policy_evaluation()\n",
    "        draw_policy(policy)"
   ]
  },
  {
   "cell_type": "code",
   "execution_count": 17,
   "id": "1e031459-3d00-41f6-b6a7-e16340b87a83",
   "metadata": {},
   "outputs": [
    {
     "name": "stderr",
     "output_type": "stream",
     "text": [
      "state(pi): 100%|█████████████████████████████████████████████████████████████████████| 441/441 [14:13<00:00,  1.94s/it]\n",
      "state(pe):   0%|▏                                                                      | 1/441 [00:00<01:23,  5.28it/s]"
     ]
    },
    {
     "name": "stdout",
     "output_type": "stream",
     "text": [
      "calling policy_evaluation\n"
     ]
    },
    {
     "name": "stderr",
     "output_type": "stream",
     "text": [
      "state(pe): 100%|█████████████████████████████████████████████████████████████████████| 441/441 [01:22<00:00,  5.37it/s]\n",
      "state(pe):   0%|                                                                               | 0/441 [00:00<?, ?it/s]"
     ]
    },
    {
     "name": "stdout",
     "output_type": "stream",
     "text": [
      "46.831499780531715\n"
     ]
    },
    {
     "name": "stderr",
     "output_type": "stream",
     "text": [
      "state(pe): 100%|█████████████████████████████████████████████████████████████████████| 441/441 [01:22<00:00,  5.36it/s]\n",
      "state(pe):   0%|▏                                                                      | 1/441 [00:00<01:21,  5.41it/s]"
     ]
    },
    {
     "name": "stdout",
     "output_type": "stream",
     "text": [
      "3.6427693878594027\n"
     ]
    },
    {
     "name": "stderr",
     "output_type": "stream",
     "text": [
      "state(pe): 100%|█████████████████████████████████████████████████████████████████████| 441/441 [01:22<00:00,  5.34it/s]\n",
      "state(pe):   0%|                                                                               | 0/441 [00:00<?, ?it/s]"
     ]
    },
    {
     "name": "stdout",
     "output_type": "stream",
     "text": [
      "2.1680035718733848\n"
     ]
    },
    {
     "name": "stderr",
     "output_type": "stream",
     "text": [
      "state(pe): 100%|█████████████████████████████████████████████████████████████████████| 441/441 [01:22<00:00,  5.36it/s]\n",
      "state(pe):   0%|▏                                                                      | 1/441 [00:00<01:27,  5.06it/s]"
     ]
    },
    {
     "name": "stdout",
     "output_type": "stream",
     "text": [
      "1.586190772550765\n"
     ]
    },
    {
     "name": "stderr",
     "output_type": "stream",
     "text": [
      "state(pe): 100%|█████████████████████████████████████████████████████████████████████| 441/441 [01:22<00:00,  5.38it/s]\n",
      "state(pe):   0%|                                                                               | 0/441 [00:00<?, ?it/s]"
     ]
    },
    {
     "name": "stdout",
     "output_type": "stream",
     "text": [
      "1.3013523290202897\n"
     ]
    },
    {
     "name": "stderr",
     "output_type": "stream",
     "text": [
      "state(pe): 100%|█████████████████████████████████████████████████████████████████████| 441/441 [01:22<00:00,  5.36it/s]\n",
      "state(pe):   0%|▏                                                                      | 1/441 [00:00<01:26,  5.09it/s]"
     ]
    },
    {
     "name": "stdout",
     "output_type": "stream",
     "text": [
      "1.1504466176330652\n"
     ]
    },
    {
     "name": "stderr",
     "output_type": "stream",
     "text": [
      "state(pe): 100%|█████████████████████████████████████████████████████████████████████| 441/441 [01:22<00:00,  5.36it/s]"
     ]
    },
    {
     "name": "stdout",
     "output_type": "stream",
     "text": [
      "0.9685681748036927\n"
     ]
    },
    {
     "name": "stderr",
     "output_type": "stream",
     "text": [
      "\n"
     ]
    },
    {
     "data": {
      "image/png": "[encoded data removed]",
      "text/plain": [
       "<Figure size 432x288 with 1 Axes>"
      ]
     },
     "metadata": {
      "needs_background": "light"
     },
     "output_type": "display_data"
    },
    {
     "name": "stderr",
     "output_type": "stream",
     "text": [
      "state(pi): 100%|█████████████████████████████████████████████████████████████████████| 441/441 [14:25<00:00,  1.96s/it]\n",
      "state(pe):   0%|                                                                               | 0/441 [00:00<?, ?it/s]"
     ]
    },
    {
     "name": "stdout",
     "output_type": "stream",
     "text": [
      "calling policy_evaluation\n"
     ]
    },
    {
     "name": "stderr",
     "output_type": "stream",
     "text": [
      "state(pe): 100%|█████████████████████████████████████████████████████████████████████| 441/441 [01:24<00:00,  5.22it/s]\n",
      "state(pe):   0%|                                                                               | 0/441 [00:00<?, ?it/s]"
     ]
    },
    {
     "name": "stdout",
     "output_type": "stream",
     "text": [
      "5.13322727886009\n"
     ]
    },
    {
     "name": "stderr",
     "output_type": "stream",
     "text": [
      "state(pe): 100%|█████████████████████████████████████████████████████████████████████| 441/441 [01:24<00:00,  5.20it/s]\n",
      "state(pe):   0%|▏                                                                      | 1/441 [00:00<01:28,  4.99it/s]"
     ]
    },
    {
     "name": "stdout",
     "output_type": "stream",
     "text": [
      "3.043572799082881\n"
     ]
    },
    {
     "name": "stderr",
     "output_type": "stream",
     "text": [
      "state(pe): 100%|█████████████████████████████████████████████████████████████████████| 441/441 [01:24<00:00,  5.22it/s]\n",
      "state(pe):   0%|▏                                                                      | 1/441 [00:00<01:20,  5.44it/s]"
     ]
    },
    {
     "name": "stdout",
     "output_type": "stream",
     "text": [
      "1.9776167984275617\n"
     ]
    },
    {
     "name": "stderr",
     "output_type": "stream",
     "text": [
      "state(pe): 100%|█████████████████████████████████████████████████████████████████████| 441/441 [01:24<00:00,  5.21it/s]\n",
      "state(pe):   0%|                                                                               | 0/441 [00:00<?, ?it/s]"
     ]
    },
    {
     "name": "stdout",
     "output_type": "stream",
     "text": [
      "1.3108686455935867\n"
     ]
    },
    {
     "name": "stderr",
     "output_type": "stream",
     "text": [
      "state(pe): 100%|█████████████████████████████████████████████████████████████████████| 441/441 [01:24<00:00,  5.20it/s]"
     ]
    },
    {
     "name": "stdout",
     "output_type": "stream",
     "text": [
      "0.8689773311747331\n"
     ]
    },
    {
     "name": "stderr",
     "output_type": "stream",
     "text": [
      "\n"
     ]
    },
    {
     "data": {
      "image/png": "[encoded data removed]",
      "text/plain": [
       "<Figure size 432x288 with 1 Axes>"
      ]
     },
     "metadata": {
      "needs_background": "light"
     },
     "output_type": "display_data"
    },
    {
     "name": "stderr",
     "output_type": "stream",
     "text": [
      "state(pi): 100%|█████████████████████████████████████████████████████████████████████| 441/441 [14:16<00:00,  1.94s/it]\n",
      "state(pe):   0%|▏                                                                             | 1/441 [00:00<01:21,  5.40it/s]"
     ]
    },
    {
     "name": "stdout",
     "output_type": "stream",
     "text": [
      "calling policy_evaluation\n"
     ]
    },
    {
     "name": "stderr",
     "output_type": "stream",
     "text": [
      "state(pe): 100%|████████████████████████████████████████████████████████████████████████████| 441/441 [01:21<00:00,  5.43it/s]"
     ]
    },
    {
     "name": "stdout",
     "output_type": "stream",
     "text": [
      "0.8214682593877569\n"
     ]
    },
    {
     "name": "stderr",
     "output_type": "stream",
     "text": [
      "\n"
     ]
    },
    {
     "data": {
      "image/png": "[encoded data removed]",
      "text/plain": [
       "<Figure size 432x288 with 1 Axes>"
      ]
     },
     "metadata": {
      "needs_background": "light"
     },
     "output_type": "display_data"
    },
    {
     "name": "stderr",
     "output_type": "stream",
     "text": [
      "state(pi): 100%|████████████████████████████████████████████████████████████████████████████| 441/441 [14:03<00:00,  1.91s/it]\n",
      "state(pe):   0%|▏                                                                             | 1/441 [00:00<01:16,  5.76it/s]"
     ]
    },
    {
     "name": "stdout",
     "output_type": "stream",
     "text": [
      "calling policy_evaluation\n"
     ]
    },
    {
     "name": "stderr",
     "output_type": "stream",
     "text": [
      "state(pe): 100%|████████████████████████████████████████████████████████████████████████████| 441/441 [01:21<00:00,  5.39it/s]"
     ]
    },
    {
     "name": "stdout",
     "output_type": "stream",
     "text": [
      "0.4706239098338756\n"
     ]
    },
    {
     "name": "stderr",
     "output_type": "stream",
     "text": [
      "\n"
     ]
    },
    {
     "data": {
      "image/png": "[encoded data removed]",
      "text/plain": [
       "<Figure size 432x288 with 1 Axes>"
      ]
     },
     "metadata": {
      "needs_background": "light"
     },
     "output_type": "display_data"
    },
    {
     "name": "stderr",
     "output_type": "stream",
     "text": [
      "state(pi): 100%|████████████████████████████████████████████████████████████████████████████| 441/441 [14:04<00:00,  1.92s/it]\n"
     ]
    }
   ],
   "source": [
    "policy_improvement()"
   ]
  },
  {
   "cell_type": "code",
   "execution_count": 22,
   "id": "01a17d7e-0d4e-43df-b3da-67f7cc2f41dc",
   "metadata": {},
   "outputs": [
    {
     "data": {
      "image/png": "[encoded data removed]",
      "text/plain": [
       "<Figure size 432x288 with 2 Axes>"
      ]
     },
     "metadata": {
      "needs_background": "light"
     },
     "output_type": "display_data"
    }
   ],
   "source": [
    "draw_policy(policy)"
   ]
  },
  {
   "cell_type": "code",
   "execution_count": null,
   "id": "4c9f3ec9-f07a-417e-989c-1a298ae6c10d",
   "metadata": {},
   "outputs": [],
   "source": []
  }
 ],
 "metadata": {
  "kernelspec": {
   "display_name": "Python 3",
   "language": "python",
   "name": "python3"
  },
  "language_info": {
   "codemirror_mode": {
    "name": "ipython",
    "version": 3
   },
   "file_extension": ".py",
   "mimetype": "text/x-python",
   "name": "python",
   "nbconvert_exporter": "python",
   "pygments_lexer": "ipython3",
   "version": "3.9.1"
  }
 },
 "nbformat": 4,
 "nbformat_minor": 5
}
