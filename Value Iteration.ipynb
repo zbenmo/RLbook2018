{
 "cells": [
  {
   "cell_type": "code",
   "execution_count": 1,
   "id": "9fc3eecc-b12d-45ab-9490-60b5139099df",
   "metadata": {},
   "outputs": [],
   "source": [
    "import matplotlib.pyplot as plt\n",
    "from matplotlib.pyplot import figure\n",
    "from scipy.stats import poisson\n",
    "from tqdm import tqdm\n",
    "from functools import lru_cache\n",
    "import numpy as np"
   ]
  },
  {
   "cell_type": "code",
   "execution_count": 2,
   "id": "f8d6027d-7a73-4ccb-b2fa-e8096feabd28",
   "metadata": {
    "tags": []
   },
   "outputs": [],
   "source": [
    "V = {s: 0 for s in range(1, 100)}\n",
    "V[0] = 0\n",
    "V[100] = 0"
   ]
  },
  {
   "cell_type": "code",
   "execution_count": 3,
   "id": "8592d1ea-edc9-49e9-a520-aadf4ee8dedc",
   "metadata": {},
   "outputs": [],
   "source": [
    "def possible_actions(s):\n",
    "    yield from range(1, min(s, 100 - s) + 1)"
   ]
  },
  {
   "cell_type": "code",
   "execution_count": 4,
   "id": "304ac76e-cb12-4123-b507-f8ef5e878668",
   "metadata": {},
   "outputs": [
    {
     "data": {
      "text/plain": [
       "[1, 2, 3, 4, 5, 6, 7, 8, 9, 10, 11, 12, 13, 14]"
      ]
     },
     "execution_count": 4,
     "metadata": {},
     "output_type": "execute_result"
    }
   ],
   "source": [
    "list(possible_actions(86))"
   ]
  },
  {
   "cell_type": "code",
   "execution_count": 5,
   "id": "e732dafb-a073-4d22-86de-b92d9a88ec7e",
   "metadata": {},
   "outputs": [],
   "source": [
    "ph = 0.4\n",
    "\n",
    "def possible_outcomes(s, a):\n",
    "    assert s < 100\n",
    "    head = s + a\n",
    "    assert head <= 100\n",
    "    tail = s - a\n",
    "    assert tail >= 0\n",
    "    r_head = 1 if head >= 100 else 0\n",
    "    yield ph, r_head, head\n",
    "    yield 1 - ph, 0, tail"
   ]
  },
  {
   "cell_type": "code",
   "execution_count": 6,
   "id": "cad8d1da-b705-4194-bb37-e229abf2c9bd",
   "metadata": {},
   "outputs": [
    {
     "data": {
      "text/plain": [
       "[(0.4, 0, 98), (0.6, 0, 94)]"
      ]
     },
     "execution_count": 6,
     "metadata": {},
     "output_type": "execute_result"
    }
   ],
   "source": [
    "list(possible_outcomes(96, 2))"
   ]
  },
  {
   "cell_type": "code",
   "execution_count": 7,
   "id": "bed45d23-34d5-4f80-86cc-1d14de4e7bf7",
   "metadata": {},
   "outputs": [
    {
     "data": {
      "text/plain": [
       "[(0.4, 1, 100), (0.6, 0, 96)]"
      ]
     },
     "execution_count": 7,
     "metadata": {},
     "output_type": "execute_result"
    }
   ],
   "source": [
    "list(possible_outcomes(98, 2))"
   ]
  },
  {
   "cell_type": "code",
   "execution_count": 8,
   "id": "544e7df8-a2ac-44ae-9f55-e147877962d2",
   "metadata": {},
   "outputs": [
    {
     "data": {
      "text/plain": [
       "[(0.4, 0, 99), (0.6, 0, 97)]"
      ]
     },
     "execution_count": 8,
     "metadata": {},
     "output_type": "execute_result"
    }
   ],
   "source": [
    "list(possible_outcomes(98, 1))"
   ]
  },
  {
   "cell_type": "code",
   "execution_count": 9,
   "id": "bcc5e845-2638-4608-a0e6-4e24e42a171b",
   "metadata": {},
   "outputs": [],
   "source": [
    "def plot_value():\n",
    "    myList = V.items()\n",
    "    myList = sorted(myList)[1: -1] \n",
    "    x, y = zip(*myList)\n",
    "    plt.hlines(0.5, 0, 100, color='g', linestyles='dashed')\n",
    "    plt.hlines(ph, 0, 100, color='r')\n",
    "    plt.xticks([1, 25, 50, 75, 99])\n",
    "    plt.plot(x, y)"
   ]
  },
  {
   "cell_type": "code",
   "execution_count": 10,
   "id": "16887e4b-c343-4920-98d7-a2ab318a31c7",
   "metadata": {},
   "outputs": [],
   "source": [
    "def policy(s):\n",
    "    return sorted(possible_actions(s), key=lambda a: (sum(p * (r + gamma * V[sp]) for p, r, sp in possible_outcomes(s, a)), -a))[-1]"
   ]
  },
  {
   "cell_type": "code",
   "execution_count": 11,
   "id": "522c8e0b-d030-4db8-9719-5021712de8df",
   "metadata": {},
   "outputs": [],
   "source": [
    "def show_policy():\n",
    "    figure(figsize=(16, 6), dpi=80)\n",
    "    plt.xticks([1, 25, 50, 75, 99])\n",
    "    plt.yticks(range(0, 51, 5))\n",
    "    x = list(range(1, 100))\n",
    "    plt.hlines(1, 0, 100, color='g', linestyles='dashed')\n",
    "    plt.bar(x, [policy(s) for s in x])"
   ]
  },
  {
   "cell_type": "code",
   "execution_count": 12,
   "id": "d8b88683-214e-4b4b-994d-da300672ab7a",
   "metadata": {},
   "outputs": [
    {
     "data": {
      "image/png": "[encoded data removed]",
      "text/plain": [
       "<Figure size 432x288 with 1 Axes>"
      ]
     },
     "metadata": {
      "needs_background": "light"
     },
     "output_type": "display_data"
    }
   ],
   "source": [
    "plot_value()"
   ]
  },
  {
   "cell_type": "code",
   "execution_count": 13,
   "id": "35b48735-6ed5-4df3-9889-ce5121f1299f",
   "metadata": {},
   "outputs": [],
   "source": [
    "theta = 0.01"
   ]
  },
  {
   "cell_type": "code",
   "execution_count": 14,
   "id": "6b16d9b9-baf7-44a3-aeac-0c04d6e008fc",
   "metadata": {},
   "outputs": [],
   "source": [
    "gamma = 1\n",
    "\n",
    "def value_iteration():\n",
    "    while True:\n",
    "        delta = 0\n",
    "        for s in range(1, 100):\n",
    "            v = V[s]\n",
    "            action_value = {\n",
    "                a: sum(p * (r + gamma * V[sp]) for p, r, sp in possible_outcomes(s, a))\n",
    "                for a in possible_actions(s)\n",
    "            }\n",
    "            V[s] = max(action_value.values())\n",
    "            delta = max(delta, abs(v - V[s]))\n",
    "#         print(delta)\n",
    "        if delta <= theta:\n",
    "            break"
   ]
  },
  {
   "cell_type": "code",
   "execution_count": 15,
   "id": "5bfebb24-5783-40df-b707-e3ae7d6528be",
   "metadata": {},
   "outputs": [],
   "source": [
    "value_iteration()"
   ]
  },
  {
   "cell_type": "code",
   "execution_count": 16,
   "id": "70858a86-17b9-4474-be03-2f03bac689e8",
   "metadata": {},
   "outputs": [
    {
     "data": {
      "image/png": "[encoded data removed]",
      "text/plain": [
       "<Figure size 432x288 with 1 Axes>"
      ]
     },
     "metadata": {
      "needs_background": "light"
     },
     "output_type": "display_data"
    }
   ],
   "source": [
    "plot_value()"
   ]
  },
  {
   "cell_type": "code",
   "execution_count": 17,
   "id": "41d7d1f6-c4a4-4c3d-abb8-d93ed0008f78",
   "metadata": {},
   "outputs": [
    {
     "data": {
      "image/png": "[encoded data removed]",
      "text/plain": [
       "<Figure size 1280x480 with 1 Axes>"
      ]
     },
     "metadata": {
      "needs_background": "light"
     },
     "output_type": "display_data"
    }
   ],
   "source": [
    "show_policy()"
   ]
  },
  {
   "cell_type": "code",
   "execution_count": 18,
   "id": "d7e0ef2e-e214-4c7f-a3be-d81491f640c7",
   "metadata": {},
   "outputs": [],
   "source": [
    "theta = 0.0001\n",
    "value_iteration()"
   ]
  },
  {
   "cell_type": "code",
   "execution_count": 19,
   "id": "298b956f-f9a2-4822-b538-8a56eab63b56",
   "metadata": {},
   "outputs": [
    {
     "data": {
      "image/png": "[encoded data removed]",
      "text/plain": [
       "<Figure size 432x288 with 1 Axes>"
      ]
     },
     "metadata": {
      "needs_background": "light"
     },
     "output_type": "display_data"
    }
   ],
   "source": [
    "plot_value()"
   ]
  },
  {
   "cell_type": "code",
   "execution_count": 20,
   "id": "c2750a3d-f625-47d1-a9d2-4776c49e7e36",
   "metadata": {},
   "outputs": [
    {
     "data": {
      "image/png": "[encoded data removed]",
      "text/plain": [
       "<Figure size 1280x480 with 1 Axes>"
      ]
     },
     "metadata": {
      "needs_background": "light"
     },
     "output_type": "display_data"
    }
   ],
   "source": [
    "show_policy()"
   ]
  },
  {
   "cell_type": "code",
   "execution_count": 21,
   "id": "0d1ea7a1-f06c-4a2e-b93f-cefc548b47a2",
   "metadata": {},
   "outputs": [],
   "source": [
    "theta = 0\n",
    "value_iteration()"
   ]
  },
  {
   "cell_type": "code",
   "execution_count": 24,
   "id": "514bacf4-d6bc-4196-9bfb-c10c53af963a",
   "metadata": {},
   "outputs": [
    {
     "data": {
      "image/png": "[encoded data removed]",
      "text/plain": [
       "<Figure size 432x288 with 1 Axes>"
      ]
     },
     "metadata": {
      "needs_background": "light"
     },
     "output_type": "display_data"
    }
   ],
   "source": [
    "plot_value()"
   ]
  },
  {
   "cell_type": "code",
   "execution_count": 25,
   "id": "70ea6267-83f2-4370-97af-5dbbef75e65f",
   "metadata": {},
   "outputs": [
    {
     "data": {
      "image/png": "[encoded data removed]",
      "text/plain": [
       "<Figure size 1280x480 with 1 Axes>"
      ]
     },
     "metadata": {
      "needs_background": "light"
     },
     "output_type": "display_data"
    }
   ],
   "source": [
    "show_policy()"
   ]
  },
  {
   "cell_type": "code",
   "execution_count": null,
   "id": "a6d97d91-5bc4-4043-8a0a-a03b89063a44",
   "metadata": {},
   "outputs": [],
   "source": []
  }
 ],
 "metadata": {
  "kernelspec": {
   "display_name": "Python 3",
   "language": "python",
   "name": "python3"
  },
  "language_info": {
   "codemirror_mode": {
    "name": "ipython",
    "version": 3
   },
   "file_extension": ".py",
   "mimetype": "text/x-python",
   "name": "python",
   "nbconvert_exporter": "python",
   "pygments_lexer": "ipython3",
   "version": "3.9.1"
  }
 },
 "nbformat": 4,
 "nbformat_minor": 5
}
