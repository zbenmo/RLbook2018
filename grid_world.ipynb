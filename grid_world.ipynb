{
 "cells": [
  {
   "cell_type": "code",
   "execution_count": 1,
   "id": "afc8ee59-0e8e-44c4-974a-b8a7848e813b",
   "metadata": {},
   "outputs": [],
   "source": [
    "center = 0.7;\n",
    "up = 2.3;\n",
    "right = 0.4;\n",
    "down = -0.4;\n",
    "left = 0.7;"
   ]
  },
  {
   "cell_type": "code",
   "execution_count": 2,
   "id": "1675330e-7575-453b-b3b7-ac5b171d525f",
   "metadata": {},
   "outputs": [],
   "source": [
    "# rewards are all zeros"
   ]
  },
  {
   "cell_type": "code",
   "execution_count": 7,
   "id": "03cd39a1-b04d-41b2-aa96-e8b1254afdf3",
   "metadata": {},
   "outputs": [],
   "source": [
    "γ = 0.9"
   ]
  },
  {
   "cell_type": "code",
   "execution_count": 8,
   "id": "b6aac2d9-8eba-4bd1-9206-72321808dff0",
   "metadata": {},
   "outputs": [
    {
     "data": {
      "text/plain": [
       "0.675"
      ]
     },
     "execution_count": 8,
     "metadata": {},
     "output_type": "execute_result"
    }
   ],
   "source": [
    "γ * (up + right + down + left) / 4"
   ]
  },
  {
   "cell_type": "code",
   "execution_count": 19,
   "id": "015c3448-0e63-4cb8-96e0-32c21dfc4dbd",
   "metadata": {},
   "outputs": [],
   "source": [
    "from dataclasses import dataclass"
   ]
  },
  {
   "cell_type": "code",
   "execution_count": 44,
   "id": "e0e880eb-ce3d-4c6c-856b-5de14f4d4907",
   "metadata": {},
   "outputs": [],
   "source": [
    "@dataclass\n",
    "class Location:\n",
    "    row: int\n",
    "    col: int\n",
    "        \n",
    "    @classmethod\n",
    "    def _move_shift (klass, action) -> (int, int):\n",
    "        if action == 'up':\n",
    "            return (-1, 0)\n",
    "        elif action == 'right':\n",
    "            return (0, 1)\n",
    "        elif action == 'down':\n",
    "            return (1, 0)\n",
    "        elif action == 'left':\n",
    "            return (0, -1)\n",
    "        else:\n",
    "            assert False, f'Unrecognized action {action}'\n",
    "        \n",
    "    def move (self, action):\n",
    "        if (self.row, self.col) == (0, 1):\n",
    "            return 10, Location(4, 1)\n",
    "        elif (self.row, self.col) == (1, 3):\n",
    "            return 5, Location(3, 3)\n",
    "        shift = Location._move_shift(action)\n",
    "        new_row, new_col = self.row + shift[0], self.col + shift[1]\n",
    "        if (new_row < 0) or (new_row >= 5) or (new_col < 0) or (new_col >= 5):\n",
    "            return -1, self\n",
    "        else:\n",
    "            return 0, Location(new_row, new_col)\n",
    "        \n",
    "    def index(self) -> int:\n",
    "        return self.row * 5 + self.col"
   ]
  },
  {
   "cell_type": "code",
   "execution_count": 39,
   "id": "b46a9f45-328d-4db2-a979-f2ee8cf9d54d",
   "metadata": {},
   "outputs": [],
   "source": [
    "l = Location(0,0)"
   ]
  },
  {
   "cell_type": "code",
   "execution_count": 40,
   "id": "bbd5825d-8ab3-49ac-a4ea-5c266e2db0f7",
   "metadata": {},
   "outputs": [
    {
     "data": {
      "text/plain": [
       "(0, Location(row=0, col=1))"
      ]
     },
     "execution_count": 40,
     "metadata": {},
     "output_type": "execute_result"
    }
   ],
   "source": [
    "l.move('right')"
   ]
  },
  {
   "cell_type": "code",
   "execution_count": 42,
   "id": "534097ed-d7f0-42d1-9a11-74bfcc733b49",
   "metadata": {},
   "outputs": [
    {
     "data": {
      "text/plain": [
       "(10, Location(row=4, col=1))"
      ]
     },
     "execution_count": 42,
     "metadata": {},
     "output_type": "execute_result"
    }
   ],
   "source": [
    "l.move('right')[1].move('right')"
   ]
  },
  {
   "cell_type": "code",
   "execution_count": 43,
   "id": "aeff538d-6ae5-4ba1-b29a-647fa4fa03bf",
   "metadata": {},
   "outputs": [
    {
     "data": {
      "text/plain": [
       "(-1, Location(row=0, col=0))"
      ]
     },
     "execution_count": 43,
     "metadata": {},
     "output_type": "execute_result"
    }
   ],
   "source": [
    "l.move('up')"
   ]
  },
  {
   "cell_type": "code",
   "execution_count": 9,
   "id": "ca9f368c-3a70-424a-a332-73f50b230d91",
   "metadata": {},
   "outputs": [],
   "source": [
    "import numpy as np"
   ]
  },
  {
   "cell_type": "code",
   "execution_count": 47,
   "id": "aac42ff8-9b3d-4d64-a5f0-dfad6ed54bc8",
   "metadata": {},
   "outputs": [],
   "source": [
    "collect_coefficients = [None] * 5 * 5"
   ]
  },
  {
   "cell_type": "code",
   "execution_count": 64,
   "id": "c07fe606-4711-437b-bce7-f9b7f2cdecad",
   "metadata": {},
   "outputs": [],
   "source": [
    "for row in range(5):\n",
    "    for col in range(5):\n",
    "        l = Location(row, col)\n",
    "        idx = l.index()\n",
    "        coefficients = [0] * 5 * 5\n",
    "        coefficients[idx] = 1\n",
    "        total_r = 0\n",
    "        for action in ['up', 'right', 'down', 'left']:\n",
    "            r, next_location = l.move(action)\n",
    "            coefficients[next_location.index()] -= γ / 4\n",
    "            total_r += r / 4\n",
    "        collect_coefficients[idx] = (coefficients, total_r)"
   ]
  },
  {
   "cell_type": "code",
   "execution_count": 65,
   "id": "2fda6c7d-5273-4d17-9b0a-84d136412961",
   "metadata": {},
   "outputs": [],
   "source": [
    "A, b = zip(*collect_coefficients)"
   ]
  },
  {
   "cell_type": "code",
   "execution_count": 60,
   "id": "1a23ada9-5eb6-4786-a879-ab6946990bb7",
   "metadata": {},
   "outputs": [],
   "source": [
    "import matplotlib.pyplot as plt"
   ]
  },
  {
   "cell_type": "code",
   "execution_count": 66,
   "id": "fe3561c7-1cfb-4e91-b467-f3b9006db05b",
   "metadata": {},
   "outputs": [
    {
     "data": {
      "image/png": "[encoded data removed]",
      "text/plain": [
       "<Figure size 288x288 with 2 Axes>"
      ]
     },
     "metadata": {
      "needs_background": "light"
     },
     "output_type": "display_data"
    }
   ],
   "source": [
    "plt.matshow(A)\n",
    "plt.colorbar();"
   ]
  },
  {
   "cell_type": "code",
   "execution_count": 68,
   "id": "2b26f4d8-69da-4d61-b466-13a6e4bc68ed",
   "metadata": {},
   "outputs": [],
   "source": [
    "ans = np.linalg.solve(A, b)"
   ]
  },
  {
   "cell_type": "code",
   "execution_count": 74,
   "id": "995fd363-bab3-44d2-9a76-bc08550369f6",
   "metadata": {},
   "outputs": [],
   "source": [
    "arr = np.zeros((5, 5))"
   ]
  },
  {
   "cell_type": "code",
   "execution_count": 75,
   "id": "edd70fb9-f7a9-4092-80a8-230a3f74b24b",
   "metadata": {},
   "outputs": [],
   "source": [
    "for row in range(5):\n",
    "    for col in range(5):\n",
    "        idx = Location(row, col).index()\n",
    "        arr[row, col] = ans[idx]"
   ]
  },
  {
   "cell_type": "code",
   "execution_count": 78,
   "id": "c42bd3dc-351d-4db5-9e68-4645992ff512",
   "metadata": {},
   "outputs": [
    {
     "data": {
      "image/png": "[encoded data removed]",
      "text/plain": [
       "<Figure size 288x288 with 2 Axes>"
      ]
     },
     "metadata": {
      "needs_background": "light"
     },
     "output_type": "display_data"
    }
   ],
   "source": [
    "plt.matshow(arr)\n",
    "for (i, j), z in np.ndenumerate(arr):\n",
    "    plt.text(j, i, '{:0.1f}'.format(z), ha='center', va='center')\n",
    "plt.colorbar();"
   ]
  },
  {
   "cell_type": "code",
   "execution_count": null,
   "id": "547bf926-c578-416a-92b5-0d3f7e522563",
   "metadata": {},
   "outputs": [],
   "source": []
  }
 ],
 "metadata": {
  "kernelspec": {
   "display_name": "Python 3",
   "language": "python",
   "name": "python3"
  },
  "language_info": {
   "codemirror_mode": {
    "name": "ipython",
    "version": 3
   },
   "file_extension": ".py",
   "mimetype": "text/x-python",
   "name": "python",
   "nbconvert_exporter": "python",
   "pygments_lexer": "ipython3",
   "version": "3.9.1"
  }
 },
 "nbformat": 4,
 "nbformat_minor": 5
}
